{
 "cells": [
  {
   "cell_type": "code",
   "execution_count": null,
   "metadata": {},
   "outputs": [],
   "source": [
    "# Add parent dir to search path to allow demo to run without an install.\n",
    "import sys\n",
    "if \"..\" not in sys.path: sys.path.append(\"..\")\n",
    "\n",
    "from jp_svg_canvas import canvas"
   ]
  },
  {
   "cell_type": "code",
   "execution_count": null,
   "metadata": {},
   "outputs": [],
   "source": [
    "# Install the javascript needed to support the canvas widget.\n",
    "canvas.load_javascript_support(True)"
   ]
  },
  {
   "cell_type": "code",
   "execution_count": null,
   "metadata": {},
   "outputs": [],
   "source": [
    "# Create a canvas widget and configure it before displaying.\n",
    "svg = canvas.SVGCanvasWidget()\n",
    "svg.add_style(\"stroke-width\", \"0px\")\n",
    "svg.add_style(\"background-color\", \"cornsilk\")"
   ]
  },
  {
   "cell_type": "code",
   "execution_count": null,
   "metadata": {},
   "outputs": [],
   "source": [
    "# Display the configured widget\n",
    "svg"
   ]
  },
  {
   "cell_type": "code",
   "execution_count": null,
   "metadata": {},
   "outputs": [],
   "source": [
    "# Change the background color.\n",
    "svg.svg_width = svg.svg_height = 350\n",
    "svg.add_style(\"background-color\", \"pink\")\n",
    "# Add some named objects to the canvas.\n",
    "text_style = {\"font-size\": 30, \"text-anchor\": \"middle\"}\n",
    "svg.text(\"goober\", 120,444, \"boogie woogie\", **text_style)\n",
    "svg.line(\"line 1\", 20, 100, 400, 450, \"green\", 10)\n",
    "svg.circle(\"circle 1\", 300, 200, 45, \"yellow\")\n",
    "svg.rect(\"rect 1\", 120,444, 13, 40, \"cyan\")\n",
    "# The objects are buffered.  Send them to the javascript side for display.\n",
    "svg.send_commands()"
   ]
  },
  {
   "cell_type": "code",
   "execution_count": null,
   "metadata": {},
   "outputs": [],
   "source": [
    "svg.fit(True)\n",
    "svg.send_commands()"
   ]
  },
  {
   "cell_type": "code",
   "execution_count": null,
   "metadata": {},
   "outputs": [],
   "source": [
    "#svg.get_SVG_text()\n",
    "#svg.send_commands()"
   ]
  },
  {
   "cell_type": "code",
   "execution_count": null,
   "metadata": {},
   "outputs": [],
   "source": [
    "svg.viewBox, svg.svg_width, svg.svg_height"
   ]
  },
  {
   "cell_type": "code",
   "execution_count": null,
   "metadata": {},
   "outputs": [],
   "source": [
    "svg.last_svg_text"
   ]
  },
  {
   "cell_type": "code",
   "execution_count": null,
   "metadata": {},
   "outputs": [],
   "source": [
    "svg.save_as_SVG_file(\"YYY.html\")"
   ]
  },
  {
   "cell_type": "code",
   "execution_count": null,
   "metadata": {},
   "outputs": [],
   "source": [
    "svg.last_svg_text"
   ]
  },
  {
   "cell_type": "code",
   "execution_count": null,
   "metadata": {},
   "outputs": [],
   "source": [
    "# create a fake embedded copy.\n",
    "from jp_svg_canvas import fake_svg\n",
    "reload(fake_svg)\n",
    "f = fake_svg.FakeCanvasWidget(svg.viewBox)\n",
    "f.text(\"goober\", 120,444, \"boogie woogie\", **text_style)\n",
    "f.line(\"line 1\", 20, 100, 400, 450, \"green\", 10)\n",
    "f.circle(\"circle 1\", 300, 200, 45, \"yellow\")\n",
    "f.rect(\"rect 1\", 120,444, 13, 40, \"cyan\")\n",
    "print f.embedding()\n",
    "f.embed()"
   ]
  },
  {
   "cell_type": "code",
   "execution_count": null,
   "metadata": {},
   "outputs": [],
   "source": [
    "# Attach a slider to adjust the width.\n",
    "from traitlets import link\n",
    "import ipywidgets as widgets\n",
    "slider = widgets.FloatSlider(value=500, min=50, max=1000, step=10, description=\"side\")\n",
    "link((slider, \"value\"), (svg, \"svg_width\"))\n",
    "slider"
   ]
  },
  {
   "cell_type": "code",
   "execution_count": null,
   "metadata": {},
   "outputs": [],
   "source": [
    "# Add a line with a callback to adjust one of the endpoints on mouse click.\n",
    "name = \"my_line\"\n",
    "tag = \"line\"\n",
    "atts = {\"x1\": 100, \"y1\":200, \"x2\": 300, \"y2\":100}\n",
    "style = {\"stroke\": \"blue\", \"stroke-width\": 5}\n",
    "def callback(info):\n",
    "    #print (\"line event callback\", info)\n",
    "    typ = info[\"type\"]\n",
    "    #svg.watch_event = \"mousemove\"\n",
    "    if typ == \"mousedown\":\n",
    "        #print (\"mousedown\", info)\n",
    "        svg.watch_event = \"mousemove\"\n",
    "        svg.default_event_callback = callback\n",
    "        svg.change_element(name, {\"x1\": info[\"svgX\"], \"y1\": info[\"svgY\"]})\n",
    "    elif typ == \"mousemove\":\n",
    "        svg.change_element(name, {\"x1\": info[\"svgX\"], \"y1\": info[\"svgY\"]})\n",
    "    elif typ in (\"mouseup\", \"mousedown\"):\n",
    "        #print (\"mouseup\", info)\n",
    "        svg.change_element(name, {\"x1\": info[\"svgX\"], \"y1\": info[\"svgY\"]})\n",
    "        svg.unwatch_event = \"mousemove\"\n",
    "        svg.default_event_callback = None\n",
    "    svg.send_commands()\n",
    "svg.line(\"my_line\", 100, 200, 300, 100, \"blue\", 5, event_cb=callback)\n",
    "svg.watch_event = \"click mouseup mousedown\"\n",
    "svg.send_commands()\n",
    "# Now try to mousedown on the blue line."
   ]
  },
  {
   "cell_type": "code",
   "execution_count": null,
   "metadata": {},
   "outputs": [],
   "source": [
    "# Delete the circle\n",
    "svg.delete_names([\"circle 1\"])\n",
    "svg.send_commands()\n"
   ]
  },
  {
   "cell_type": "code",
   "execution_count": null,
   "metadata": {},
   "outputs": [],
   "source": [
    "# Modify the blue line: make it green and move x1.\n",
    "name = \"my_line\"\n",
    "style = {\"stroke\": \"green\"}\n",
    "atts = {\"x1\":400}\n",
    "svg.change_element(name, atts, style)\n",
    "svg.send_commands()"
   ]
  },
  {
   "cell_type": "code",
   "execution_count": null,
   "metadata": {},
   "outputs": [],
   "source": [
    "# Enable verbose event reporting.\n",
    "svg.verbose = True"
   ]
  },
  {
   "cell_type": "code",
   "execution_count": null,
   "metadata": {},
   "outputs": [],
   "source": []
  }
 ],
 "metadata": {
  "kernelspec": {
   "display_name": "Python 2",
   "language": "python",
   "name": "python2"
  },
  "language_info": {
   "codemirror_mode": {
    "name": "ipython",
    "version": 2
   },
   "file_extension": ".py",
   "mimetype": "text/x-python",
   "name": "python",
   "nbconvert_exporter": "python",
   "pygments_lexer": "ipython2",
   "version": "2.7.15"
  },
  "widgets": {
   "state": {
    "0c5ce17553c748108842791723f6ddbd": {
     "views": []
    },
    "276a021580064325bda7883a501c5d7e": {
     "views": [
      {
       "cell_index": 3
      }
     ]
    },
    "4d61bf011657464e99a4ffbaa469f98d": {
     "views": []
    },
    "53610ab842ec428b9b8bffaca624846b": {
     "views": []
    },
    "89befd7a9ab64b2bae39aaaa0ee41c6c": {
     "views": [
      {
       "cell_index": 8
      }
     ]
    },
    "8f43d8b2006245a3bcf5b53fdb7e6fca": {
     "views": []
    }
   },
   "version": "1.1.1"
  }
 },
 "nbformat": 4,
 "nbformat_minor": 1
}
