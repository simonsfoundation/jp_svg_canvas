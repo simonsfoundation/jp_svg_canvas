{
 "cells": [
  {
   "cell_type": "code",
   "execution_count": 1,
   "metadata": {
    "collapsed": false
   },
   "outputs": [],
   "source": [
    "# Add parent dir to search path to allow demo to run without an install.\n",
    "import sys\n",
    "if \"..\" not in sys.path: sys.path.append(\"..\")\n",
    "\n",
    "from jp_svg_canvas import canvas"
   ]
  },
  {
   "cell_type": "code",
   "execution_count": 2,
   "metadata": {
    "collapsed": false
   },
   "outputs": [
    {
     "name": "stdout",
     "output_type": "stream",
     "text": [
      "loading javascript from '/Users/awatters/repos/jp_svg_canvas/jp_svg_canvas/canvas.js'\n"
     ]
    },
    {
     "data": {
      "application/javascript": [
       "\n",
       "// imitating ipywidgets/docs/source/examples/Custom Widget - Hello World.ipynb\n",
       "\n",
       "//require([\"widgets/js/widget\", \"widgets/js/manager\"], function(widget, manager){\n",
       "\n",
       "require.undef(\"SVGCanvas\");\n",
       "\n",
       "define(\"SVGCanvas\", [\"jupyter-js-widgets\"], function(widgets) {\n",
       "    \n",
       "    var svgEventHandlerFactory = function(that) {\n",
       "        var svgEventHandler = function(e) {\n",
       "            var target = e.target;\n",
       "            var info = {};\n",
       "            for (var attr in e) {\n",
       "                var val = e[attr];\n",
       "                var ty = (typeof val);\n",
       "                if ((ty == \"number\") ||\n",
       "                    (ty == \"string\") ||\n",
       "                    (ty == \"boolean\")) {\n",
       "                    info[attr] = val;\n",
       "                }\n",
       "            }\n",
       "            info.name = target.ipy_name;\n",
       "            var ept = SVGEventLocation(that, e);\n",
       "            info.svgX = ept.x;\n",
       "            info.svgY = ept.y;\n",
       "            var json = JSON.stringify(info);\n",
       "            that.model.set(\"event\", json);\n",
       "            that.touch();\n",
       "        };\n",
       "        return svgEventHandler;\n",
       "    };\n",
       "\n",
       "    var SVGEventLocation = function(that, e) {\n",
       "        // http://stackoverflow.com/questions/10298658/mouse-position-inside-autoscaled-svg\n",
       "        var pt = that.reference_point;\n",
       "        var svg = that.$svg[0];\n",
       "        pt.x = e.clientX;\n",
       "        pt.y = e.clientY;\n",
       "        return pt.matrixTransform(svg.getScreenCTM().inverse());\n",
       "    }\n",
       "    \n",
       "    var SVGCanvasView = widgets.DOMWidgetView.extend({\n",
       "        \n",
       "        render: function() {\n",
       "            var that = this;\n",
       "            var svg = that.svg_elt(\"svg\");\n",
       "            var eventHandler = svgEventHandlerFactory(that);\n",
       "            that.eventHandler = eventHandler;\n",
       "            that.named_elements = {};\n",
       "            svg.ipy_name = \"\";\n",
       "            that.$svg = $(svg);\n",
       "            that.reference_point = svg.createSVGPoint();\n",
       "            svg.setAttribute(\"preserveAspectRatio\", \"none\");\n",
       "            that.$el.append(that.$svg);\n",
       "            that.svg_parameters_changed();\n",
       "            that.commands_changed();\n",
       "            that.start_watch_event();\n",
       "            that.model.on(\"change:commands\", that.commands_changed, that);\n",
       "            that.model.on(\"change:viewBox\", that.svg_parameters_changed, that);\n",
       "            that.model.on(\"change:svg_width\", that.svg_parameters_changed, that);\n",
       "            that.model.on(\"change:svg_height\", that.svg_parameters_changed, that);\n",
       "            that.model.on(\"change:style\", that.svg_parameters_changed, that);\n",
       "            that.model.on(\"change:watch_event\", that.start_watch_event, that);\n",
       "            that.model.on(\"change:unwatch_event\", that.stop_watch_event, that);\n",
       "        },\n",
       "        \n",
       "        start_watch_event: function() {\n",
       "            var that = this;\n",
       "            var event_types = that.model.get(\"watch_event\");\n",
       "            if (event_types != \"\") {\n",
       "                that.$svg.on(event_types, that.eventHandler);\n",
       "                that.model.set(\"watch_event\", \"\");\n",
       "                that.touch();\n",
       "            }\n",
       "        },\n",
       "        \n",
       "        stop_watch_event: function() {\n",
       "            var that = this;\n",
       "            var event_types = that.model.get(\"unwatch_event\");\n",
       "            if (event_types != \"\") {\n",
       "                that.$svg.off(event_types);\n",
       "                that.model.set(\"watch_event\", \"\");\n",
       "                that.touch();\n",
       "            }\n",
       "        },\n",
       "        \n",
       "        commands_changed: function() {\n",
       "            var that = this;\n",
       "            var svg = that.$svg[0];\n",
       "            var commands = that.get_JSON(\"commands\")\n",
       "            for (var i=0; i<commands.length; i++) {\n",
       "                var command_dict = commands[i];\n",
       "                var indicator = command_dict[\"command\"];\n",
       "                var method = that[\"do_\"+indicator];\n",
       "                method(that, command_dict);\n",
       "            }\n",
       "        },\n",
       "\n",
       "        do_fit: function(that, info) {\n",
       "            // fit viewport to bounding box.\n",
       "            var svg = that.$svg[0];\n",
       "            var bbox = svg.getBBox();\n",
       "            var D = {\"width\": bbox.width, \"height\": bbox.height, \"x\": bbox.x, \"y\": bbox.y}\n",
       "            var vbox = \"\" + D.x + \" \" + D.y + \" \" + D.width + \" \" + D.height;\n",
       "            if ((D.width > 0) && (D.height > 0)) {\n",
       "                that.model.set(\"boundingBox\", D);\n",
       "                if (info.changeView) {\n",
       "                    that.model.set(\"viewBox\", vbox);\n",
       "                }\n",
       "                // Element viewBox will be updated later by model change.\n",
       "                that.touch();\n",
       "            }\n",
       "        },\n",
       "        \n",
       "        do_add_element: function (that, info) {\n",
       "            var tag = info.tag;\n",
       "            var name = info.name;\n",
       "            var element = that.svg_elt(tag);\n",
       "            element.ipy_name = name;\n",
       "            var $element = $(element);\n",
       "            that.update_element($element, info);\n",
       "            // add event callbacks\n",
       "            that.$svg.append($element);\n",
       "            that.named_elements[name] = $element;\n",
       "        },\n",
       "        \n",
       "        do_change_element: function (that, info) {\n",
       "            var name = info.name;\n",
       "            var $element = that.named_elements[name];\n",
       "            if ($element) {\n",
       "                that.update_element($element, info);\n",
       "            } else {\n",
       "                console.warn(\"couldn't find element for \"+name);\n",
       "            }\n",
       "        },\n",
       "        \n",
       "        do_delete: function (that, info) {\n",
       "            var names = info.names;\n",
       "            for (var i=0; i<names.length; i++) {\n",
       "                var name = names[i];\n",
       "                var $element = that.named_elements[name];\n",
       "                if ($element) {\n",
       "                    $element.remove();\n",
       "                    delete that.named_elements[name];\n",
       "                }\n",
       "            }\n",
       "        },\n",
       "        \n",
       "        update_element: function($element, info) {\n",
       "            var element = $element[0];\n",
       "            var atts = info.atts;\n",
       "            var style = info.style;\n",
       "            var text = info.text;\n",
       "            if (atts) {\n",
       "                for (var att in atts) {\n",
       "                    element.setAttribute(att, atts[att]);\n",
       "                }\n",
       "            }\n",
       "            if (style) {\n",
       "                for (var styling in style) {\n",
       "                    element.style[styling] = style[styling];\n",
       "                }\n",
       "            }\n",
       "            if (text) {\n",
       "                $element.empty();\n",
       "                var node = document.createTextNode(text);\n",
       "                element.appendChild(node);\n",
       "            }\n",
       "        },\n",
       "        \n",
       "        do_empty: function (that, info) {\n",
       "            that.named_elements = {};\n",
       "            that.$svg.empty();\n",
       "        },\n",
       "        \n",
       "        svg_parameters_changed: function() {\n",
       "            var that = this;\n",
       "            var style_additions = that.get_JSON(\"style\");\n",
       "            var svg = that.$svg[0];\n",
       "            svg.setAttribute(\"viewBox\", that.model.get(\"viewBox\"));\n",
       "            svg.setAttribute(\"width\", that.model.get(\"svg_width\"));\n",
       "            svg.setAttribute(\"height\", that.model.get(\"svg_height\"));\n",
       "            for (var style_attr in style_additions) {\n",
       "                svg.style[style_attr] = style_additions[style_attr];\n",
       "            }\n",
       "        },\n",
       "        \n",
       "        get_JSON: function(name) {\n",
       "            var json = this.model.get(name);\n",
       "            return $.parseJSON(json);\n",
       "        },\n",
       "        \n",
       "        svg_elt: function(kind) {\n",
       "            return document.createElementNS('http://www.w3.org/2000/svg', kind);\n",
       "        }\n",
       "        \n",
       "    });\n",
       "    \n",
       "    //manager.WidgetManager.register_widget_view('SVGCanvasView', SVGCanvasView);\n",
       "    return {\n",
       "        SVGCanvasView: SVGCanvasView\n",
       "    }\n",
       "});\n"
      ],
      "text/plain": [
       "<IPython.core.display.Javascript object>"
      ]
     },
     "metadata": {},
     "output_type": "display_data"
    }
   ],
   "source": [
    "# Install the javascript needed to support the canvas widget.\n",
    "canvas.load_javascript_support(True)"
   ]
  },
  {
   "cell_type": "code",
   "execution_count": 3,
   "metadata": {
    "collapsed": false
   },
   "outputs": [],
   "source": [
    "# Create a canvas widget and configure it before displaying.\n",
    "svg = canvas.SVGCanvasWidget()\n",
    "svg.add_style(\"stroke-width\", \"0px\")\n",
    "svg.add_style(\"background-color\", \"cornsilk\")"
   ]
  },
  {
   "cell_type": "code",
   "execution_count": 4,
   "metadata": {
    "collapsed": false
   },
   "outputs": [],
   "source": [
    "# Display the configured widget\n",
    "svg"
   ]
  },
  {
   "cell_type": "code",
   "execution_count": 6,
   "metadata": {
    "collapsed": true
   },
   "outputs": [],
   "source": [
    "# Change the background color.\n",
    "svg.svg_width = svg.svg_height = 350\n",
    "svg.add_style(\"background-color\", \"pink\")\n",
    "# Add some named objects to the canvas.\n",
    "text_style = {\"font-size\": 30, \"text-anchor\": \"middle\"}\n",
    "svg.text(\"goober\", 120,444, \"boogie woogie\", **text_style)\n",
    "svg.line(\"line 1\", 20, 100, 400, 450, \"green\", 10)\n",
    "svg.circle(\"circle 1\", 300, 200, 45, \"yellow\")\n",
    "svg.rect(\"rect 1\", 120,444, 13, 40, \"cyan\")\n",
    "# The objects are buffered.  Send them to the javascript side for display.\n",
    "svg.send_commands()"
   ]
  },
  {
   "cell_type": "code",
   "execution_count": 7,
   "metadata": {
    "collapsed": false
   },
   "outputs": [],
   "source": [
    "svg.fit(True)\n",
    "svg.send_commands()"
   ]
  },
  {
   "cell_type": "code",
   "execution_count": 8,
   "metadata": {
    "collapsed": false
   },
   "outputs": [
    {
     "data": {
      "text/plain": [
       "u'20 100 380 383.9999694824219'"
      ]
     },
     "execution_count": 8,
     "metadata": {},
     "output_type": "execute_result"
    }
   ],
   "source": [
    "svg.viewBox"
   ]
  },
  {
   "cell_type": "code",
   "execution_count": 9,
   "metadata": {
    "collapsed": false
   },
   "outputs": [
    {
     "name": "stdout",
     "output_type": "stream",
     "text": [
      "\n",
      "<canvas id=\"jp_svg_canvas_fake_svg_1\" width=\"800.0\" height=\"808.420988384\" style=\"border:1px solid #d3d3d3;\">\n",
      "Your browser does not support the HTML5 canvas tag.</canvas>\n",
      "<script>\n",
      "(function () {\n",
      "    var c = document.getElementById(\"jp_svg_canvas_fake_svg_1\");\n",
      "    var ctx = c.getContext(\"2d\");\n",
      "    var visible = true;\n",
      "    var showhide = function () {\n",
      "        if (visible) {\n",
      "            $(c).show();\n",
      "        } else {\n",
      "            $(c).hide();\n",
      "        }\n",
      "    };\n",
      "    var toggle_visibility = function() {\n",
      "        visible = !visible;\n",
      "        showhide();\n",
      "    };\n",
      "    showhide();\n",
      "    // format the canvas\n",
      "    ctx.scale(2.1052631578947367, 2.1052631578947367);\n",
      "    ctx.translate(-20.0, -100.0);\n",
      "    ctx.font = '30px Arial';\n",
      "    ctx.fillStyle = 'black';\n",
      "    ctx.textAlign = 'center';\n",
      "    ctx.fillText('boogie woogie', 120, 444);\n",
      "    ctx.beginPath();\n",
      "    ctx.strokeStyle = 'green';\n",
      "    ctx.lineWidth = 10;\n",
      "    ctx.moveTo(20, 100);\n",
      "    ctx.lineTo(400, 450);\n",
      "    ctx.stroke();\n",
      "    ctx.beginPath();\n",
      "    ctx.fillStyle = 'yellow';\n",
      "    ctx.arc(300, 200, 45, 0, Math.PI * 2);\n",
      "    ctx.fill();\n",
      "    ctx.beginPath();\n",
      "    ctx.fillStyle = 'cyan';\n",
      "    ctx.rect(120, 444, 13, 40);\n",
      "    ctx.fill();\n",
      "    // append the download link\n",
      "    var data_url = c.toDataURL(\"image/png\");\n",
      "    var link = document.createElement(\"a\");\n",
      "    link.download = \"diagram.png\";\n",
      "    link.href = data_url;\n",
      "    $(link).html(\"Download as image/png: diagram.png\");\n",
      "    $(c).before(link);\n",
      "    $(c).before(\"<br/>\");\n",
      "    $(c).before(\"<em>Download link may fail for large and complex images. If so capture preview.&nbsp;</em>\");\n",
      "    var vlink = $(\"<button>show/hide diagram.png preview</button>\").click(toggle_visibility);\n",
      "    $(c).before(vlink);\n",
      "    $(c).before(\"<br/>\");\n",
      "    link.scrollIntoView();\n",
      "})();\n",
      "</script>\n",
      "\n"
     ]
    },
    {
     "data": {
      "text/html": [
       "\n",
       "<canvas id=\"jp_svg_canvas_fake_svg_2\" width=\"800.0\" height=\"808.420988384\" style=\"border:1px solid #d3d3d3;\">\n",
       "Your browser does not support the HTML5 canvas tag.</canvas>\n",
       "<script>\n",
       "(function () {\n",
       "    var c = document.getElementById(\"jp_svg_canvas_fake_svg_2\");\n",
       "    var ctx = c.getContext(\"2d\");\n",
       "    var visible = true;\n",
       "    var showhide = function () {\n",
       "        if (visible) {\n",
       "            $(c).show();\n",
       "        } else {\n",
       "            $(c).hide();\n",
       "        }\n",
       "    };\n",
       "    var toggle_visibility = function() {\n",
       "        visible = !visible;\n",
       "        showhide();\n",
       "    };\n",
       "    showhide();\n",
       "    // format the canvas\n",
       "    ctx.scale(2.1052631578947367, 2.1052631578947367);\n",
       "    ctx.translate(-20.0, -100.0);\n",
       "    ctx.font = '30px Arial';\n",
       "    ctx.fillStyle = 'black';\n",
       "    ctx.textAlign = 'center';\n",
       "    ctx.fillText('boogie woogie', 120, 444);\n",
       "    ctx.beginPath();\n",
       "    ctx.strokeStyle = 'green';\n",
       "    ctx.lineWidth = 10;\n",
       "    ctx.moveTo(20, 100);\n",
       "    ctx.lineTo(400, 450);\n",
       "    ctx.stroke();\n",
       "    ctx.beginPath();\n",
       "    ctx.fillStyle = 'yellow';\n",
       "    ctx.arc(300, 200, 45, 0, Math.PI * 2);\n",
       "    ctx.fill();\n",
       "    ctx.beginPath();\n",
       "    ctx.fillStyle = 'cyan';\n",
       "    ctx.rect(120, 444, 13, 40);\n",
       "    ctx.fill();\n",
       "    // append the download link\n",
       "    var data_url = c.toDataURL(\"image/png\");\n",
       "    var link = document.createElement(\"a\");\n",
       "    link.download = \"diagram.png\";\n",
       "    link.href = data_url;\n",
       "    $(link).html(\"Download as image/png: diagram.png\");\n",
       "    $(c).before(link);\n",
       "    $(c).before(\"<br/>\");\n",
       "    $(c).before(\"<em>Download link may fail for large and complex images. If so capture preview.&nbsp;</em>\");\n",
       "    var vlink = $(\"<button>show/hide diagram.png preview</button>\").click(toggle_visibility);\n",
       "    $(c).before(vlink);\n",
       "    $(c).before(\"<br/>\");\n",
       "    link.scrollIntoView();\n",
       "})();\n",
       "</script>\n"
      ],
      "text/plain": [
       "<IPython.core.display.HTML object>"
      ]
     },
     "metadata": {},
     "output_type": "display_data"
    }
   ],
   "source": [
    "# create a fake embedded copy.\n",
    "from jp_svg_canvas import fake_svg\n",
    "reload(fake_svg)\n",
    "f = fake_svg.FakeCanvasWidget(svg.viewBox)\n",
    "f.text(\"goober\", 120,444, \"boogie woogie\", **text_style)\n",
    "f.line(\"line 1\", 20, 100, 400, 450, \"green\", 10)\n",
    "f.circle(\"circle 1\", 300, 200, 45, \"yellow\")\n",
    "f.rect(\"rect 1\", 120,444, 13, 40, \"cyan\")\n",
    "print f.embedding()\n",
    "f.embed()"
   ]
  },
  {
   "cell_type": "code",
   "execution_count": 11,
   "metadata": {
    "collapsed": false
   },
   "outputs": [],
   "source": [
    "# Attach a slider to adjust the width.\n",
    "from traitlets import link\n",
    "import ipywidgets as widgets\n",
    "slider = widgets.FloatSlider(value=500, min=50, max=1000, step=10, description=\"side\")\n",
    "link((slider, \"value\"), (svg, \"svg_width\"))\n",
    "slider"
   ]
  },
  {
   "cell_type": "code",
   "execution_count": 12,
   "metadata": {
    "collapsed": true
   },
   "outputs": [],
   "source": [
    "# Add a line with a callback to adjust one of the endpoints on mouse click.\n",
    "name = \"my_line\"\n",
    "tag = \"line\"\n",
    "atts = {\"x1\": 100, \"y1\":200, \"x2\": 300, \"y2\":100}\n",
    "style = {\"stroke\": \"blue\", \"stroke-width\": 5}\n",
    "def callback(info):\n",
    "    #print (\"line event callback\", info)\n",
    "    typ = info[\"type\"]\n",
    "    #svg.watch_event = \"mousemove\"\n",
    "    if typ == \"mousedown\":\n",
    "        #print (\"mousedown\", info)\n",
    "        svg.watch_event = \"mousemove\"\n",
    "        svg.default_event_callback = callback\n",
    "        svg.change_element(name, {\"x1\": info[\"svgX\"], \"y1\": info[\"svgY\"]})\n",
    "    elif typ == \"mousemove\":\n",
    "        svg.change_element(name, {\"x1\": info[\"svgX\"], \"y1\": info[\"svgY\"]})\n",
    "    elif typ in (\"mouseup\", \"mousedown\"):\n",
    "        #print (\"mouseup\", info)\n",
    "        svg.change_element(name, {\"x1\": info[\"svgX\"], \"y1\": info[\"svgY\"]})\n",
    "        svg.unwatch_event = \"mousemove\"\n",
    "        svg.default_event_callback = None\n",
    "    svg.send_commands()\n",
    "svg.line(\"my_line\", 100, 200, 300, 100, \"blue\", 5, event_cb=callback)\n",
    "svg.watch_event = \"click mouseup mousedown\"\n",
    "svg.send_commands()\n",
    "# Now try to mousedown on the blue line."
   ]
  },
  {
   "cell_type": "code",
   "execution_count": null,
   "metadata": {
    "collapsed": false
   },
   "outputs": [],
   "source": [
    "# Delete the circle\n",
    "svg.delete_names([\"circle 1\"])\n",
    "svg.send_commands()\n"
   ]
  },
  {
   "cell_type": "code",
   "execution_count": null,
   "metadata": {
    "collapsed": false
   },
   "outputs": [],
   "source": [
    "# Modify the blue line: make it green and move x1.\n",
    "name = \"my_line\"\n",
    "style = {\"stroke\": \"green\"}\n",
    "atts = {\"x1\":400}\n",
    "svg.change_element(name, atts, style)\n",
    "svg.send_commands()"
   ]
  },
  {
   "cell_type": "code",
   "execution_count": null,
   "metadata": {
    "collapsed": true
   },
   "outputs": [],
   "source": [
    "# Enable verbose event reporting.\n",
    "svg.verbose = True"
   ]
  },
  {
   "cell_type": "code",
   "execution_count": null,
   "metadata": {
    "collapsed": true
   },
   "outputs": [],
   "source": []
  }
 ],
 "metadata": {
  "kernelspec": {
   "display_name": "Python 2",
   "language": "python",
   "name": "python2"
  },
  "language_info": {
   "codemirror_mode": {
    "name": "ipython",
    "version": 2
   },
   "file_extension": ".py",
   "mimetype": "text/x-python",
   "name": "python",
   "nbconvert_exporter": "python",
   "pygments_lexer": "ipython2",
   "version": "2.7.10"
  },
  "widgets": {
   "state": {
    "0c5ce17553c748108842791723f6ddbd": {
     "views": []
    },
    "276a021580064325bda7883a501c5d7e": {
     "views": [
      {
       "cell_index": 3
      }
     ]
    },
    "4d61bf011657464e99a4ffbaa469f98d": {
     "views": []
    },
    "53610ab842ec428b9b8bffaca624846b": {
     "views": []
    },
    "89befd7a9ab64b2bae39aaaa0ee41c6c": {
     "views": [
      {
       "cell_index": 8
      }
     ]
    },
    "8f43d8b2006245a3bcf5b53fdb7e6fca": {
     "views": []
    }
   },
   "version": "1.1.1"
  }
 },
 "nbformat": 4,
 "nbformat_minor": 0
}
